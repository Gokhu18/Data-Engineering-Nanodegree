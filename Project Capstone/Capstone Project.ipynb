{
 "cells": [
  {
   "cell_type": "markdown",
   "metadata": {},
   "source": [
    "## Immigration data. DE Capstone Project\n",
    "\n",
    "### Project Summary\n",
    "We need to monitor immigration traffic among the cities. We may want to analize the dynamics of the population on the level of any state or city.\n",
    "\n",
    "The project follows the follow steps:\n",
    "* Step 1: Scope the Project and Gather Data\n",
    "* Step 2: Explore and Assess the Data\n",
    "* Step 3: Define the Data Model\n",
    "* Step 4: Run ETL to Model the Data\n",
    "* Step 5: Complete Project Write Up"
   ]
  },
  {
   "cell_type": "code",
   "execution_count": 1,
   "metadata": {},
   "outputs": [],
   "source": [
    "from IPython.core.interactiveshell import InteractiveShell\n",
    "InteractiveShell.ast_node_interactivity = \"all\""
   ]
  },
  {
   "cell_type": "code",
   "execution_count": 2,
   "metadata": {},
   "outputs": [],
   "source": [
    "import pandas as pd"
   ]
  },
  {
   "cell_type": "code",
   "execution_count": 3,
   "metadata": {},
   "outputs": [],
   "source": [
    "pd.options.display.max_columns = 30\n",
    "pd.options.display.max_rows = 100"
   ]
  },
  {
   "cell_type": "markdown",
   "metadata": {},
   "source": [
    "## Step 1: Scope the Project and Gather Data\n",
    "\n",
    "### Datasets\n",
    "\n",
    "* **I94 Immigration Data**: \n",
    "This data comes from the US National Tourism and Trade Office. A data dictionary is described below. [This is where the data comes from](https://travel.trade.gov/research/reports/i94/historical/2016.html).\n",
    "\n",
    "* **World Temperature Data**: This dataset came from Kaggle. You can read more about it [here](https://www.kaggle.com/berkeleyearth/climate-change-earth-surface-temperature-data).\n",
    "* **U.S. City Demographic Data**: This data comes from OpenSoft. You can read more about it [here](https://public.opendatasoft.com/explore/dataset/us-cities-demographics/export/).\n",
    "\n",
    "* **Airport Code Table**: This is a simple table of airport codes and corresponding cities. It comes from [here](https://datahub.io/core/airport-codes#data)."
   ]
  },
  {
   "cell_type": "code",
   "execution_count": 4,
   "metadata": {},
   "outputs": [],
   "source": [
    "# from pyspark.sql import SparkSession\n",
    "# spark = SparkSession.builder.\\\n",
    "# config(\"spark.jars.packages\",\"saurfang:spark-sas7bdat:2.0.0-s_2.11\")\\\n",
    "# .enableHiveSupport().getOrCreate()\n",
    "# df_spark = spark.read.format('com.github.saurfang.sas.spark').load('../../data/18-83510-I94-Data-2016/i94_apr16_sub.sas7bdat')"
   ]
  },
  {
   "cell_type": "code",
   "execution_count": 5,
   "metadata": {},
   "outputs": [],
   "source": [
    "# #write to parquet\n",
    "# df_spark.write.parquet(\"sas_data\")\n",
    "# df_spark=spark.read.parquet(\"sas_data\")"
   ]
  },
  {
   "cell_type": "markdown",
   "metadata": {},
   "source": [
    "The data was early put in S3 bucket `dend-veegaaa-capstone`"
   ]
  },
  {
   "cell_type": "markdown",
   "metadata": {},
   "source": [
    "## Step 2: Explore and Assess the Data"
   ]
  },
  {
   "cell_type": "code",
   "execution_count": 6,
   "metadata": {},
   "outputs": [
    {
     "name": "stdout",
     "output_type": "stream",
     "text": [
      "airport-codes_csv.csv\t\t immigration_data_sample.csv\r\n",
      "Capstone Project.ipynb\t\t sas_data\r\n",
      "Exploring data.ipynb\t\t us-cities-demographics.csv\r\n",
      "I94_SAS_Labels_Descriptions.SAS\r\n"
     ]
    }
   ],
   "source": [
    "!ls"
   ]
  },
  {
   "cell_type": "markdown",
   "metadata": {},
   "source": [
    "### Explore the Data "
   ]
  },
  {
   "cell_type": "code",
   "execution_count": 7,
   "metadata": {
    "scrolled": true
   },
   "outputs": [
    {
     "data": {
      "text/plain": [
       "(55075, 12)"
      ]
     },
     "execution_count": 7,
     "metadata": {},
     "output_type": "execute_result"
    },
    {
     "data": {
      "text/html": [
       "<div>\n",
       "<style scoped>\n",
       "    .dataframe tbody tr th:only-of-type {\n",
       "        vertical-align: middle;\n",
       "    }\n",
       "\n",
       "    .dataframe tbody tr th {\n",
       "        vertical-align: top;\n",
       "    }\n",
       "\n",
       "    .dataframe thead th {\n",
       "        text-align: right;\n",
       "    }\n",
       "</style>\n",
       "<table border=\"1\" class=\"dataframe\">\n",
       "  <thead>\n",
       "    <tr style=\"text-align: right;\">\n",
       "      <th></th>\n",
       "      <th>ident</th>\n",
       "      <th>type</th>\n",
       "      <th>name</th>\n",
       "      <th>elevation_ft</th>\n",
       "      <th>continent</th>\n",
       "      <th>iso_country</th>\n",
       "      <th>iso_region</th>\n",
       "      <th>municipality</th>\n",
       "      <th>gps_code</th>\n",
       "      <th>iata_code</th>\n",
       "      <th>local_code</th>\n",
       "      <th>coordinates</th>\n",
       "    </tr>\n",
       "  </thead>\n",
       "  <tbody>\n",
       "    <tr>\n",
       "      <th>0</th>\n",
       "      <td>00A</td>\n",
       "      <td>heliport</td>\n",
       "      <td>Total Rf Heliport</td>\n",
       "      <td>11.0</td>\n",
       "      <td>NaN</td>\n",
       "      <td>US</td>\n",
       "      <td>US-PA</td>\n",
       "      <td>Bensalem</td>\n",
       "      <td>00A</td>\n",
       "      <td>NaN</td>\n",
       "      <td>00A</td>\n",
       "      <td>-74.93360137939453, 40.07080078125</td>\n",
       "    </tr>\n",
       "    <tr>\n",
       "      <th>1</th>\n",
       "      <td>00AA</td>\n",
       "      <td>small_airport</td>\n",
       "      <td>Aero B Ranch Airport</td>\n",
       "      <td>3435.0</td>\n",
       "      <td>NaN</td>\n",
       "      <td>US</td>\n",
       "      <td>US-KS</td>\n",
       "      <td>Leoti</td>\n",
       "      <td>00AA</td>\n",
       "      <td>NaN</td>\n",
       "      <td>00AA</td>\n",
       "      <td>-101.473911, 38.704022</td>\n",
       "    </tr>\n",
       "    <tr>\n",
       "      <th>2</th>\n",
       "      <td>00AK</td>\n",
       "      <td>small_airport</td>\n",
       "      <td>Lowell Field</td>\n",
       "      <td>450.0</td>\n",
       "      <td>NaN</td>\n",
       "      <td>US</td>\n",
       "      <td>US-AK</td>\n",
       "      <td>Anchor Point</td>\n",
       "      <td>00AK</td>\n",
       "      <td>NaN</td>\n",
       "      <td>00AK</td>\n",
       "      <td>-151.695999146, 59.94919968</td>\n",
       "    </tr>\n",
       "    <tr>\n",
       "      <th>3</th>\n",
       "      <td>00AL</td>\n",
       "      <td>small_airport</td>\n",
       "      <td>Epps Airpark</td>\n",
       "      <td>820.0</td>\n",
       "      <td>NaN</td>\n",
       "      <td>US</td>\n",
       "      <td>US-AL</td>\n",
       "      <td>Harvest</td>\n",
       "      <td>00AL</td>\n",
       "      <td>NaN</td>\n",
       "      <td>00AL</td>\n",
       "      <td>-86.77030181884766, 34.86479949951172</td>\n",
       "    </tr>\n",
       "    <tr>\n",
       "      <th>4</th>\n",
       "      <td>00AR</td>\n",
       "      <td>closed</td>\n",
       "      <td>Newport Hospital &amp; Clinic Heliport</td>\n",
       "      <td>237.0</td>\n",
       "      <td>NaN</td>\n",
       "      <td>US</td>\n",
       "      <td>US-AR</td>\n",
       "      <td>Newport</td>\n",
       "      <td>NaN</td>\n",
       "      <td>NaN</td>\n",
       "      <td>NaN</td>\n",
       "      <td>-91.254898, 35.6087</td>\n",
       "    </tr>\n",
       "  </tbody>\n",
       "</table>\n",
       "</div>"
      ],
      "text/plain": [
       "  ident           type                                name  elevation_ft  \\\n",
       "0   00A       heliport                   Total Rf Heliport          11.0   \n",
       "1  00AA  small_airport                Aero B Ranch Airport        3435.0   \n",
       "2  00AK  small_airport                        Lowell Field         450.0   \n",
       "3  00AL  small_airport                        Epps Airpark         820.0   \n",
       "4  00AR         closed  Newport Hospital & Clinic Heliport         237.0   \n",
       "\n",
       "  continent iso_country iso_region  municipality gps_code iata_code  \\\n",
       "0       NaN          US      US-PA      Bensalem      00A       NaN   \n",
       "1       NaN          US      US-KS         Leoti     00AA       NaN   \n",
       "2       NaN          US      US-AK  Anchor Point     00AK       NaN   \n",
       "3       NaN          US      US-AL       Harvest     00AL       NaN   \n",
       "4       NaN          US      US-AR       Newport      NaN       NaN   \n",
       "\n",
       "  local_code                            coordinates  \n",
       "0        00A     -74.93360137939453, 40.07080078125  \n",
       "1       00AA                 -101.473911, 38.704022  \n",
       "2       00AK            -151.695999146, 59.94919968  \n",
       "3       00AL  -86.77030181884766, 34.86479949951172  \n",
       "4        NaN                    -91.254898, 35.6087  "
      ]
     },
     "execution_count": 7,
     "metadata": {},
     "output_type": "execute_result"
    }
   ],
   "source": [
    "df_airport_codes = pd.read_csv('airport-codes_csv.csv')\n",
    "df_airport_codes.shape\n",
    "df_airport_codes.head()"
   ]
  },
  {
   "cell_type": "code",
   "execution_count": 8,
   "metadata": {
    "scrolled": true
   },
   "outputs": [
    {
     "data": {
      "text/plain": [
       "(2891, 12)"
      ]
     },
     "execution_count": 8,
     "metadata": {},
     "output_type": "execute_result"
    },
    {
     "data": {
      "text/html": [
       "<div>\n",
       "<style scoped>\n",
       "    .dataframe tbody tr th:only-of-type {\n",
       "        vertical-align: middle;\n",
       "    }\n",
       "\n",
       "    .dataframe tbody tr th {\n",
       "        vertical-align: top;\n",
       "    }\n",
       "\n",
       "    .dataframe thead th {\n",
       "        text-align: right;\n",
       "    }\n",
       "</style>\n",
       "<table border=\"1\" class=\"dataframe\">\n",
       "  <thead>\n",
       "    <tr style=\"text-align: right;\">\n",
       "      <th></th>\n",
       "      <th>City</th>\n",
       "      <th>State</th>\n",
       "      <th>Median Age</th>\n",
       "      <th>Male Population</th>\n",
       "      <th>Female Population</th>\n",
       "      <th>Total Population</th>\n",
       "      <th>Number of Veterans</th>\n",
       "      <th>Foreign-born</th>\n",
       "      <th>Average Household Size</th>\n",
       "      <th>State Code</th>\n",
       "      <th>Race</th>\n",
       "      <th>Count</th>\n",
       "    </tr>\n",
       "  </thead>\n",
       "  <tbody>\n",
       "    <tr>\n",
       "      <th>0</th>\n",
       "      <td>Silver Spring</td>\n",
       "      <td>Maryland</td>\n",
       "      <td>33.8</td>\n",
       "      <td>40601.0</td>\n",
       "      <td>41862.0</td>\n",
       "      <td>82463</td>\n",
       "      <td>1562.0</td>\n",
       "      <td>30908.0</td>\n",
       "      <td>2.60</td>\n",
       "      <td>MD</td>\n",
       "      <td>Hispanic or Latino</td>\n",
       "      <td>25924</td>\n",
       "    </tr>\n",
       "    <tr>\n",
       "      <th>1</th>\n",
       "      <td>Quincy</td>\n",
       "      <td>Massachusetts</td>\n",
       "      <td>41.0</td>\n",
       "      <td>44129.0</td>\n",
       "      <td>49500.0</td>\n",
       "      <td>93629</td>\n",
       "      <td>4147.0</td>\n",
       "      <td>32935.0</td>\n",
       "      <td>2.39</td>\n",
       "      <td>MA</td>\n",
       "      <td>White</td>\n",
       "      <td>58723</td>\n",
       "    </tr>\n",
       "    <tr>\n",
       "      <th>2</th>\n",
       "      <td>Hoover</td>\n",
       "      <td>Alabama</td>\n",
       "      <td>38.5</td>\n",
       "      <td>38040.0</td>\n",
       "      <td>46799.0</td>\n",
       "      <td>84839</td>\n",
       "      <td>4819.0</td>\n",
       "      <td>8229.0</td>\n",
       "      <td>2.58</td>\n",
       "      <td>AL</td>\n",
       "      <td>Asian</td>\n",
       "      <td>4759</td>\n",
       "    </tr>\n",
       "    <tr>\n",
       "      <th>3</th>\n",
       "      <td>Rancho Cucamonga</td>\n",
       "      <td>California</td>\n",
       "      <td>34.5</td>\n",
       "      <td>88127.0</td>\n",
       "      <td>87105.0</td>\n",
       "      <td>175232</td>\n",
       "      <td>5821.0</td>\n",
       "      <td>33878.0</td>\n",
       "      <td>3.18</td>\n",
       "      <td>CA</td>\n",
       "      <td>Black or African-American</td>\n",
       "      <td>24437</td>\n",
       "    </tr>\n",
       "    <tr>\n",
       "      <th>4</th>\n",
       "      <td>Newark</td>\n",
       "      <td>New Jersey</td>\n",
       "      <td>34.6</td>\n",
       "      <td>138040.0</td>\n",
       "      <td>143873.0</td>\n",
       "      <td>281913</td>\n",
       "      <td>5829.0</td>\n",
       "      <td>86253.0</td>\n",
       "      <td>2.73</td>\n",
       "      <td>NJ</td>\n",
       "      <td>White</td>\n",
       "      <td>76402</td>\n",
       "    </tr>\n",
       "  </tbody>\n",
       "</table>\n",
       "</div>"
      ],
      "text/plain": [
       "               City          State  Median Age  Male Population  \\\n",
       "0     Silver Spring       Maryland        33.8          40601.0   \n",
       "1            Quincy  Massachusetts        41.0          44129.0   \n",
       "2            Hoover        Alabama        38.5          38040.0   \n",
       "3  Rancho Cucamonga     California        34.5          88127.0   \n",
       "4            Newark     New Jersey        34.6         138040.0   \n",
       "\n",
       "   Female Population  Total Population  Number of Veterans  Foreign-born  \\\n",
       "0            41862.0             82463              1562.0       30908.0   \n",
       "1            49500.0             93629              4147.0       32935.0   \n",
       "2            46799.0             84839              4819.0        8229.0   \n",
       "3            87105.0            175232              5821.0       33878.0   \n",
       "4           143873.0            281913              5829.0       86253.0   \n",
       "\n",
       "   Average Household Size State Code                       Race  Count  \n",
       "0                    2.60         MD         Hispanic or Latino  25924  \n",
       "1                    2.39         MA                      White  58723  \n",
       "2                    2.58         AL                      Asian   4759  \n",
       "3                    3.18         CA  Black or African-American  24437  \n",
       "4                    2.73         NJ                      White  76402  "
      ]
     },
     "execution_count": 8,
     "metadata": {},
     "output_type": "execute_result"
    }
   ],
   "source": [
    "df_demographics = pd.read_csv('us-cities-demographics.csv', sep=';')\n",
    "df_demographics.shape\n",
    "df_demographics.head()"
   ]
  },
  {
   "cell_type": "code",
   "execution_count": 9,
   "metadata": {},
   "outputs": [
    {
     "data": {
      "text/html": [
       "<div>\n",
       "<style scoped>\n",
       "    .dataframe tbody tr th:only-of-type {\n",
       "        vertical-align: middle;\n",
       "    }\n",
       "\n",
       "    .dataframe tbody tr th {\n",
       "        vertical-align: top;\n",
       "    }\n",
       "\n",
       "    .dataframe thead th {\n",
       "        text-align: right;\n",
       "    }\n",
       "</style>\n",
       "<table border=\"1\" class=\"dataframe\">\n",
       "  <thead>\n",
       "    <tr style=\"text-align: right;\">\n",
       "      <th></th>\n",
       "      <th>City</th>\n",
       "      <th>State</th>\n",
       "      <th>Median Age</th>\n",
       "      <th>Male Population</th>\n",
       "      <th>Female Population</th>\n",
       "      <th>Total Population</th>\n",
       "      <th>Number of Veterans</th>\n",
       "      <th>Foreign-born</th>\n",
       "      <th>Average Household Size</th>\n",
       "      <th>State Code</th>\n",
       "      <th>Race</th>\n",
       "      <th>Count</th>\n",
       "    </tr>\n",
       "  </thead>\n",
       "  <tbody>\n",
       "    <tr>\n",
       "      <th>296</th>\n",
       "      <td>Urban Honolulu</td>\n",
       "      <td>Hawaii</td>\n",
       "      <td>41.4</td>\n",
       "      <td>176807.0</td>\n",
       "      <td>175959.0</td>\n",
       "      <td>352766</td>\n",
       "      <td>23213.0</td>\n",
       "      <td>101312.0</td>\n",
       "      <td>2.69</td>\n",
       "      <td>HI</td>\n",
       "      <td>Asian</td>\n",
       "      <td>240978</td>\n",
       "    </tr>\n",
       "    <tr>\n",
       "      <th>798</th>\n",
       "      <td>Urban Honolulu</td>\n",
       "      <td>Hawaii</td>\n",
       "      <td>41.4</td>\n",
       "      <td>176807.0</td>\n",
       "      <td>175959.0</td>\n",
       "      <td>352766</td>\n",
       "      <td>23213.0</td>\n",
       "      <td>101312.0</td>\n",
       "      <td>2.69</td>\n",
       "      <td>HI</td>\n",
       "      <td>Black or African-American</td>\n",
       "      <td>11781</td>\n",
       "    </tr>\n",
       "    <tr>\n",
       "      <th>1097</th>\n",
       "      <td>Urban Honolulu</td>\n",
       "      <td>Hawaii</td>\n",
       "      <td>41.4</td>\n",
       "      <td>176807.0</td>\n",
       "      <td>175959.0</td>\n",
       "      <td>352766</td>\n",
       "      <td>23213.0</td>\n",
       "      <td>101312.0</td>\n",
       "      <td>2.69</td>\n",
       "      <td>HI</td>\n",
       "      <td>Hispanic or Latino</td>\n",
       "      <td>24586</td>\n",
       "    </tr>\n",
       "    <tr>\n",
       "      <th>1545</th>\n",
       "      <td>Urban Honolulu</td>\n",
       "      <td>Hawaii</td>\n",
       "      <td>41.4</td>\n",
       "      <td>176807.0</td>\n",
       "      <td>175959.0</td>\n",
       "      <td>352766</td>\n",
       "      <td>23213.0</td>\n",
       "      <td>101312.0</td>\n",
       "      <td>2.69</td>\n",
       "      <td>HI</td>\n",
       "      <td>White</td>\n",
       "      <td>110508</td>\n",
       "    </tr>\n",
       "    <tr>\n",
       "      <th>1546</th>\n",
       "      <td>Urban Honolulu</td>\n",
       "      <td>Hawaii</td>\n",
       "      <td>41.4</td>\n",
       "      <td>176807.0</td>\n",
       "      <td>175959.0</td>\n",
       "      <td>352766</td>\n",
       "      <td>23213.0</td>\n",
       "      <td>101312.0</td>\n",
       "      <td>2.69</td>\n",
       "      <td>HI</td>\n",
       "      <td>American Indian and Alaska Native</td>\n",
       "      <td>5592</td>\n",
       "    </tr>\n",
       "  </tbody>\n",
       "</table>\n",
       "</div>"
      ],
      "text/plain": [
       "                City   State  Median Age  Male Population  Female Population  \\\n",
       "296   Urban Honolulu  Hawaii        41.4         176807.0           175959.0   \n",
       "798   Urban Honolulu  Hawaii        41.4         176807.0           175959.0   \n",
       "1097  Urban Honolulu  Hawaii        41.4         176807.0           175959.0   \n",
       "1545  Urban Honolulu  Hawaii        41.4         176807.0           175959.0   \n",
       "1546  Urban Honolulu  Hawaii        41.4         176807.0           175959.0   \n",
       "\n",
       "      Total Population  Number of Veterans  Foreign-born  \\\n",
       "296             352766             23213.0      101312.0   \n",
       "798             352766             23213.0      101312.0   \n",
       "1097            352766             23213.0      101312.0   \n",
       "1545            352766             23213.0      101312.0   \n",
       "1546            352766             23213.0      101312.0   \n",
       "\n",
       "      Average Household Size State Code                               Race  \\\n",
       "296                     2.69         HI                              Asian   \n",
       "798                     2.69         HI          Black or African-American   \n",
       "1097                    2.69         HI                 Hispanic or Latino   \n",
       "1545                    2.69         HI                              White   \n",
       "1546                    2.69         HI  American Indian and Alaska Native   \n",
       "\n",
       "       Count  \n",
       "296   240978  \n",
       "798    11781  \n",
       "1097   24586  \n",
       "1545  110508  \n",
       "1546    5592  "
      ]
     },
     "execution_count": 9,
     "metadata": {},
     "output_type": "execute_result"
    }
   ],
   "source": [
    "df_demographics[df_demographics['City'].str.contains('nolu')]"
   ]
  },
  {
   "cell_type": "code",
   "execution_count": 10,
   "metadata": {},
   "outputs": [
    {
     "data": {
      "text/plain": [
       "(1000, 28)"
      ]
     },
     "execution_count": 10,
     "metadata": {},
     "output_type": "execute_result"
    },
    {
     "data": {
      "text/html": [
       "<div>\n",
       "<style scoped>\n",
       "    .dataframe tbody tr th:only-of-type {\n",
       "        vertical-align: middle;\n",
       "    }\n",
       "\n",
       "    .dataframe tbody tr th {\n",
       "        vertical-align: top;\n",
       "    }\n",
       "\n",
       "    .dataframe thead th {\n",
       "        text-align: right;\n",
       "    }\n",
       "</style>\n",
       "<table border=\"1\" class=\"dataframe\">\n",
       "  <thead>\n",
       "    <tr style=\"text-align: right;\">\n",
       "      <th></th>\n",
       "      <th>cicid</th>\n",
       "      <th>i94yr</th>\n",
       "      <th>i94mon</th>\n",
       "      <th>i94cit</th>\n",
       "      <th>i94res</th>\n",
       "      <th>i94port</th>\n",
       "      <th>arrdate</th>\n",
       "      <th>i94mode</th>\n",
       "      <th>i94addr</th>\n",
       "      <th>depdate</th>\n",
       "      <th>i94bir</th>\n",
       "      <th>i94visa</th>\n",
       "      <th>count</th>\n",
       "      <th>dtadfile</th>\n",
       "      <th>visapost</th>\n",
       "      <th>occup</th>\n",
       "      <th>entdepa</th>\n",
       "      <th>entdepd</th>\n",
       "      <th>entdepu</th>\n",
       "      <th>matflag</th>\n",
       "      <th>biryear</th>\n",
       "      <th>dtaddto</th>\n",
       "      <th>gender</th>\n",
       "      <th>insnum</th>\n",
       "      <th>airline</th>\n",
       "      <th>admnum</th>\n",
       "      <th>fltno</th>\n",
       "      <th>visatype</th>\n",
       "    </tr>\n",
       "  </thead>\n",
       "  <tbody>\n",
       "    <tr>\n",
       "      <th>2027561</th>\n",
       "      <td>4084316.0</td>\n",
       "      <td>2016.0</td>\n",
       "      <td>4.0</td>\n",
       "      <td>209.0</td>\n",
       "      <td>209.0</td>\n",
       "      <td>HHW</td>\n",
       "      <td>20566.0</td>\n",
       "      <td>1.0</td>\n",
       "      <td>HI</td>\n",
       "      <td>20573.0</td>\n",
       "      <td>61.0</td>\n",
       "      <td>2.0</td>\n",
       "      <td>1.0</td>\n",
       "      <td>20160422</td>\n",
       "      <td>NaN</td>\n",
       "      <td>NaN</td>\n",
       "      <td>G</td>\n",
       "      <td>O</td>\n",
       "      <td>NaN</td>\n",
       "      <td>M</td>\n",
       "      <td>1955.0</td>\n",
       "      <td>07202016</td>\n",
       "      <td>F</td>\n",
       "      <td>NaN</td>\n",
       "      <td>JL</td>\n",
       "      <td>5.658267e+10</td>\n",
       "      <td>00782</td>\n",
       "      <td>WT</td>\n",
       "    </tr>\n",
       "    <tr>\n",
       "      <th>2171295</th>\n",
       "      <td>4422636.0</td>\n",
       "      <td>2016.0</td>\n",
       "      <td>4.0</td>\n",
       "      <td>582.0</td>\n",
       "      <td>582.0</td>\n",
       "      <td>MCA</td>\n",
       "      <td>20567.0</td>\n",
       "      <td>1.0</td>\n",
       "      <td>TX</td>\n",
       "      <td>20568.0</td>\n",
       "      <td>26.0</td>\n",
       "      <td>2.0</td>\n",
       "      <td>1.0</td>\n",
       "      <td>20160423</td>\n",
       "      <td>MTR</td>\n",
       "      <td>NaN</td>\n",
       "      <td>G</td>\n",
       "      <td>R</td>\n",
       "      <td>NaN</td>\n",
       "      <td>M</td>\n",
       "      <td>1990.0</td>\n",
       "      <td>10222016</td>\n",
       "      <td>M</td>\n",
       "      <td>NaN</td>\n",
       "      <td>*GA</td>\n",
       "      <td>9.436200e+10</td>\n",
       "      <td>XBLNG</td>\n",
       "      <td>B2</td>\n",
       "    </tr>\n",
       "    <tr>\n",
       "      <th>589494</th>\n",
       "      <td>1195600.0</td>\n",
       "      <td>2016.0</td>\n",
       "      <td>4.0</td>\n",
       "      <td>148.0</td>\n",
       "      <td>112.0</td>\n",
       "      <td>OGG</td>\n",
       "      <td>20551.0</td>\n",
       "      <td>1.0</td>\n",
       "      <td>FL</td>\n",
       "      <td>20571.0</td>\n",
       "      <td>76.0</td>\n",
       "      <td>2.0</td>\n",
       "      <td>1.0</td>\n",
       "      <td>20160407</td>\n",
       "      <td>NaN</td>\n",
       "      <td>NaN</td>\n",
       "      <td>G</td>\n",
       "      <td>O</td>\n",
       "      <td>NaN</td>\n",
       "      <td>M</td>\n",
       "      <td>1940.0</td>\n",
       "      <td>07052016</td>\n",
       "      <td>M</td>\n",
       "      <td>NaN</td>\n",
       "      <td>LH</td>\n",
       "      <td>5.578047e+10</td>\n",
       "      <td>00464</td>\n",
       "      <td>WT</td>\n",
       "    </tr>\n",
       "    <tr>\n",
       "      <th>2631158</th>\n",
       "      <td>5291768.0</td>\n",
       "      <td>2016.0</td>\n",
       "      <td>4.0</td>\n",
       "      <td>297.0</td>\n",
       "      <td>297.0</td>\n",
       "      <td>LOS</td>\n",
       "      <td>20572.0</td>\n",
       "      <td>1.0</td>\n",
       "      <td>CA</td>\n",
       "      <td>20581.0</td>\n",
       "      <td>25.0</td>\n",
       "      <td>2.0</td>\n",
       "      <td>1.0</td>\n",
       "      <td>20160428</td>\n",
       "      <td>DOH</td>\n",
       "      <td>NaN</td>\n",
       "      <td>G</td>\n",
       "      <td>O</td>\n",
       "      <td>NaN</td>\n",
       "      <td>M</td>\n",
       "      <td>1991.0</td>\n",
       "      <td>10272016</td>\n",
       "      <td>M</td>\n",
       "      <td>NaN</td>\n",
       "      <td>QR</td>\n",
       "      <td>9.478970e+10</td>\n",
       "      <td>00739</td>\n",
       "      <td>B2</td>\n",
       "    </tr>\n",
       "    <tr>\n",
       "      <th>3032257</th>\n",
       "      <td>985523.0</td>\n",
       "      <td>2016.0</td>\n",
       "      <td>4.0</td>\n",
       "      <td>111.0</td>\n",
       "      <td>111.0</td>\n",
       "      <td>CHM</td>\n",
       "      <td>20550.0</td>\n",
       "      <td>3.0</td>\n",
       "      <td>NY</td>\n",
       "      <td>20553.0</td>\n",
       "      <td>19.0</td>\n",
       "      <td>2.0</td>\n",
       "      <td>1.0</td>\n",
       "      <td>20160406</td>\n",
       "      <td>NaN</td>\n",
       "      <td>NaN</td>\n",
       "      <td>Z</td>\n",
       "      <td>K</td>\n",
       "      <td>NaN</td>\n",
       "      <td>M</td>\n",
       "      <td>1997.0</td>\n",
       "      <td>07042016</td>\n",
       "      <td>F</td>\n",
       "      <td>NaN</td>\n",
       "      <td>NaN</td>\n",
       "      <td>4.232257e+10</td>\n",
       "      <td>LAND</td>\n",
       "      <td>WT</td>\n",
       "    </tr>\n",
       "  </tbody>\n",
       "</table>\n",
       "</div>"
      ],
      "text/plain": [
       "             cicid   i94yr  i94mon  i94cit  i94res i94port  arrdate  i94mode  \\\n",
       "2027561  4084316.0  2016.0     4.0   209.0   209.0     HHW  20566.0      1.0   \n",
       "2171295  4422636.0  2016.0     4.0   582.0   582.0     MCA  20567.0      1.0   \n",
       "589494   1195600.0  2016.0     4.0   148.0   112.0     OGG  20551.0      1.0   \n",
       "2631158  5291768.0  2016.0     4.0   297.0   297.0     LOS  20572.0      1.0   \n",
       "3032257   985523.0  2016.0     4.0   111.0   111.0     CHM  20550.0      3.0   \n",
       "\n",
       "        i94addr  depdate  i94bir  i94visa  count  dtadfile visapost occup  \\\n",
       "2027561      HI  20573.0    61.0      2.0    1.0  20160422      NaN   NaN   \n",
       "2171295      TX  20568.0    26.0      2.0    1.0  20160423      MTR   NaN   \n",
       "589494       FL  20571.0    76.0      2.0    1.0  20160407      NaN   NaN   \n",
       "2631158      CA  20581.0    25.0      2.0    1.0  20160428      DOH   NaN   \n",
       "3032257      NY  20553.0    19.0      2.0    1.0  20160406      NaN   NaN   \n",
       "\n",
       "        entdepa entdepd  entdepu matflag  biryear   dtaddto gender  insnum  \\\n",
       "2027561       G       O      NaN       M   1955.0  07202016      F     NaN   \n",
       "2171295       G       R      NaN       M   1990.0  10222016      M     NaN   \n",
       "589494        G       O      NaN       M   1940.0  07052016      M     NaN   \n",
       "2631158       G       O      NaN       M   1991.0  10272016      M     NaN   \n",
       "3032257       Z       K      NaN       M   1997.0  07042016      F     NaN   \n",
       "\n",
       "        airline        admnum  fltno visatype  \n",
       "2027561      JL  5.658267e+10  00782       WT  \n",
       "2171295     *GA  9.436200e+10  XBLNG       B2  \n",
       "589494       LH  5.578047e+10  00464       WT  \n",
       "2631158      QR  9.478970e+10  00739       B2  \n",
       "3032257     NaN  4.232257e+10   LAND       WT  "
      ]
     },
     "execution_count": 10,
     "metadata": {},
     "output_type": "execute_result"
    }
   ],
   "source": [
    "df_immigrat = pd.read_csv('immigration_data_sample.csv', index_col=0)\n",
    "df_immigrat.shape\n",
    "df_immigrat.head()"
   ]
  },
  {
   "cell_type": "code",
   "execution_count": 11,
   "metadata": {
    "scrolled": true
   },
   "outputs": [
    {
     "data": {
      "text/plain": [
       "<pyarrow._parquet.ParquetSchema object at 0x7f67fa149150>\n",
       "required group field_id=0 spark_schema {\n",
       "  optional double field_id=1 cicid;\n",
       "  optional double field_id=2 i94yr;\n",
       "  optional double field_id=3 i94mon;\n",
       "  optional double field_id=4 i94cit;\n",
       "  optional double field_id=5 i94res;\n",
       "  optional binary field_id=6 i94port (String);\n",
       "  optional double field_id=7 arrdate;\n",
       "  optional double field_id=8 i94mode;\n",
       "  optional binary field_id=9 i94addr (String);\n",
       "  optional double field_id=10 depdate;\n",
       "  optional double field_id=11 i94bir;\n",
       "  optional double field_id=12 i94visa;\n",
       "  optional double field_id=13 count;\n",
       "  optional binary field_id=14 dtadfile (String);\n",
       "  optional binary field_id=15 visapost (String);\n",
       "  optional binary field_id=16 occup (String);\n",
       "  optional binary field_id=17 entdepa (String);\n",
       "  optional binary field_id=18 entdepd (String);\n",
       "  optional binary field_id=19 entdepu (String);\n",
       "  optional binary field_id=20 matflag (String);\n",
       "  optional double field_id=21 biryear;\n",
       "  optional binary field_id=22 dtaddto (String);\n",
       "  optional binary field_id=23 gender (String);\n",
       "  optional binary field_id=24 insnum (String);\n",
       "  optional binary field_id=25 airline (String);\n",
       "  optional double field_id=26 admnum;\n",
       "  optional binary field_id=27 fltno (String);\n",
       "  optional binary field_id=28 visatype (String);\n",
       "}"
      ]
     },
     "execution_count": 11,
     "metadata": {},
     "output_type": "execute_result"
    }
   ],
   "source": [
    "import pyarrow.parquet as pq\n",
    "\n",
    "dataset = pq.ParquetDataset('sas_data')\n",
    "dataset.schema"
   ]
  },
  {
   "cell_type": "code",
   "execution_count": 12,
   "metadata": {},
   "outputs": [
    {
     "data": {
      "text/plain": [
       "pyarrow.Table\n",
       "cicid: double\n",
       "i94yr: double"
      ]
     },
     "execution_count": 12,
     "metadata": {},
     "output_type": "execute_result"
    }
   ],
   "source": [
    "table = dataset.read(columns=['cicid', 'i94yr'])\n",
    "table"
   ]
  },
  {
   "cell_type": "markdown",
   "metadata": {},
   "source": [
    "* Demographics dataset is currently aggregated on the level of particular city"
   ]
  },
  {
   "cell_type": "markdown",
   "metadata": {},
   "source": [
    "### Data from S3"
   ]
  },
  {
   "cell_type": "code",
   "execution_count": 37,
   "metadata": {},
   "outputs": [],
   "source": [
    "KEY=\"\"\n",
    "SECRET=\"\""
   ]
  },
  {
   "cell_type": "code",
   "execution_count": 36,
   "metadata": {},
   "outputs": [
    {
     "data": {
      "text/plain": [
       "s3.ObjectSummary(bucket_name='dend-veegaaa-capstone', key='immigration_data_sample.csv')"
      ]
     },
     "execution_count": 36,
     "metadata": {},
     "output_type": "execute_result"
    }
   ],
   "source": [
    "import boto3\n",
    "\n",
    "s3 = boto3.resource('s3',\n",
    "                    region_name=\"us-west-2\",\n",
    "                    aws_access_key_id=KEY,\n",
    "                    aws_secret_access_key=SECRET\n",
    "                   )\n",
    "\n",
    "sampleDbBucket =  s3.Bucket(\"dend-veegaaa-capstone\")\n",
    "# obj_list = list(sampleDbBucket.objects.filter(Prefix='song_data/A/B/C/'))\n",
    "obj_list = list(sampleDbBucket.objects.filter())\n",
    "obj = obj_list[0]\n",
    "obj"
   ]
  },
  {
   "cell_type": "markdown",
   "metadata": {},
   "source": [
    "## Step 3: Define the Data Model"
   ]
  },
  {
   "cell_type": "markdown",
   "metadata": {},
   "source": [
    "### Conceptual Data Model"
   ]
  },
  {
   "cell_type": "markdown",
   "metadata": {},
   "source": [
    "The data model must serve the followeing needs:\n",
    "* Analytics team are able to monitor immigration traffic according to logs\n",
    "* One can aggregate total population on city and state levels"
   ]
  },
  {
   "cell_type": "markdown",
   "metadata": {},
   "source": [
    "Therefore, it's appropriate to create a star model with the followeing structure:\n",
    "\n",
    "**Fact table**\n",
    "\n",
    "_immigration_facts_\n",
    "* *cicid* - id\n",
    "* *i94port* - City code\n",
    "* *i94addr* - State code\n",
    "* *dtadfile* - Date added to I-94 Files\n",
    "* *dtaddto* - Date to which admitted to U.S. (allowed to stay until)\n",
    "* *admnum* - Admission Number\n",
    "\n",
    "**Dimension tables**\n",
    "\n",
    "_states_\n",
    "* *state_code* - state code\n",
    "* *state_name* - state name\n",
    "\n",
    "_cities_\n",
    "* *city_name* - city name\n",
    "* *state_code* - state code\n",
    "* *total_pop* - total population\n",
    "\n",
    "_times_\n",
    "* *date* - date\n",
    "* *day* - day\n",
    "* *month* - month\n",
    "* *year* - year\n",
    "* *weekday* - weekday\n"
   ]
  },
  {
   "cell_type": "code",
   "execution_count": 17,
   "metadata": {},
   "outputs": [
    {
     "name": "stdout",
     "output_type": "stream",
     "text": [
      "city text,\n",
      "state text,\n",
      "median age text,\n",
      "male population text,\n",
      "female population text,\n",
      "total population text,\n",
      "number of veterans text,\n",
      "foreign-born text,\n",
      "average household size text,\n",
      "state code text,\n",
      "race text,\n",
      "count text,\n"
     ]
    }
   ],
   "source": [
    "# for col in df_immigrat.columns:\n",
    "#     print(f\"{col} text,\")\n",
    "for col in df_demographics.columns:\n",
    "    print(f\"{str.lower(col)} text,\")"
   ]
  },
  {
   "cell_type": "markdown",
   "metadata": {},
   "source": [
    "### Inserts"
   ]
  },
  {
   "cell_type": "markdown",
   "metadata": {},
   "source": [
    "### Mapping Out Data Pipelines\n",
    "The steps necessary to pipeline the data into the chosen data model"
   ]
  },
  {
   "cell_type": "markdown",
   "metadata": {},
   "source": [
    "1. Create tables\n",
    "2. Copy data to staging tables\n",
    "3. Perform ETL to insert the data into Fact & Dimension tables"
   ]
  },
  {
   "cell_type": "code",
   "execution_count": 18,
   "metadata": {},
   "outputs": [],
   "source": [
    "query_copy = (f\"\"\"\n",
    "copy staging_demographics \n",
    "from 's3://dend-veegaaa-capstone/us-cities-demographics.csv' \n",
    "ACCESS_KEY_ID '{KEY}'\n",
    "SECRET_ACCESS_KEY '{SECRET}'\n",
    "IGNOREHEADER 1\n",
    "DELIMITER ';'\n",
    ";\"\"\")"
   ]
  },
  {
   "cell_type": "code",
   "execution_count": 19,
   "metadata": {},
   "outputs": [],
   "source": [
    "cur.execute(query_copy)\n",
    "conn.commit()"
   ]
  },
  {
   "cell_type": "code",
   "execution_count": 20,
   "metadata": {},
   "outputs": [],
   "source": [
    "query_copy = (f\"\"\"\n",
    "copy staging_immigration \n",
    "from 's3://dend-veegaaa-capstone/immigration_data_sample.csv' \n",
    "ACCESS_KEY_ID '{KEY}'\n",
    "SECRET_ACCESS_KEY '{SECRET}'\n",
    "IGNOREHEADER 1\n",
    "DELIMITER ','\n",
    ";\"\"\")"
   ]
  },
  {
   "cell_type": "code",
   "execution_count": 21,
   "metadata": {},
   "outputs": [],
   "source": [
    "cur.execute(query_copy)\n",
    "conn.commit()"
   ]
  },
  {
   "cell_type": "code",
   "execution_count": 22,
   "metadata": {},
   "outputs": [],
   "source": [
    "# conn.rollback()"
   ]
  },
  {
   "cell_type": "markdown",
   "metadata": {},
   "source": [
    "## Step 4: Run Pipelines to Model the Data "
   ]
  },
  {
   "cell_type": "markdown",
   "metadata": {},
   "source": [
    "### Create the data model\n",
    "Build the data pipelines to create the data model."
   ]
  },
  {
   "cell_type": "code",
   "execution_count": 23,
   "metadata": {},
   "outputs": [],
   "source": [
    "import psycopg2"
   ]
  },
  {
   "cell_type": "code",
   "execution_count": 24,
   "metadata": {},
   "outputs": [],
   "source": [
    "conn = psycopg2.connect(f\"host=redshift-cluster-1.cmv39mltiyk7.us-west-2.redshift.amazonaws.com \\\n",
    "    dbname=dev \\\n",
    "    user=awsuser \\\n",
    "    password=I4lqx2jp \\\n",
    "    port=5439\")"
   ]
  },
  {
   "cell_type": "code",
   "execution_count": 25,
   "metadata": {
    "scrolled": true
   },
   "outputs": [],
   "source": [
    "cur = conn.cursor()"
   ]
  },
  {
   "cell_type": "code",
   "execution_count": 26,
   "metadata": {},
   "outputs": [],
   "source": [
    "# DROP TABLES\n",
    "# table_drop = \"drop table IF EXISTS staging_immigration\"\n",
    "table_list = ['staging_immigration', 'staging_demographics', 'immigration_facts', 'times', 'states', 'cities']"
   ]
  },
  {
   "cell_type": "code",
   "execution_count": 27,
   "metadata": {},
   "outputs": [],
   "source": [
    "# CREATE TABLES\n",
    "\n",
    "staging_events_table_create= (\"\"\"\n",
    "CREATE TABLE IF NOT EXISTS staging_immigration\n",
    "(\n",
    "index_col text,\n",
    "cicid text,\n",
    "i94yr text,\n",
    "i94mon text,\n",
    "i94cit text,\n",
    "i94res text,\n",
    "i94port text,\n",
    "arrdate text,\n",
    "i94mode text,\n",
    "i94addr text,\n",
    "depdate text,\n",
    "i94bir text,\n",
    "i94visa text,\n",
    "count text,\n",
    "dtadfile text,\n",
    "visapost text,\n",
    "occup text,\n",
    "entdepa text,\n",
    "entdepd text,\n",
    "entdepu text,\n",
    "matflag text,\n",
    "biryear text,\n",
    "dtaddto text,\n",
    "gender text,\n",
    "insnum text,\n",
    "airline text,\n",
    "admnum text,\n",
    "fltno text,\n",
    "visatype text\n",
    ");\n",
    "\"\"\")\n",
    "\n",
    "staging_demogr_table_create =  (\"\"\"\n",
    "CREATE TABLE IF NOT EXISTS staging_demographics\n",
    "(\n",
    "city text,\n",
    "state text,\n",
    "median_age text,\n",
    "male_population text,\n",
    "female_population text,\n",
    "total_population text,\n",
    "number_of_veterans text,\n",
    "foreign_born text,\n",
    "average_household_size text,\n",
    "state text,\n",
    "race text,\n",
    "count text\n",
    ");\n",
    "\"\"\")"
   ]
  },
  {
   "cell_type": "code",
   "execution_count": 28,
   "metadata": {},
   "outputs": [],
   "source": [
    "immigration_facts_table_create = (\"\"\"\n",
    "CREATE TABLE IF NOT EXISTS immigration_facts\n",
    "(\n",
    "cicid BIGINT PRIMARY KEY,\n",
    "i94port text,\n",
    "i94addr text,\n",
    "dtadfile date,\n",
    "dtaddto date,\n",
    "admnum BIGINT\n",
    ");\n",
    "\"\"\")\n",
    "\n",
    "states_table_create = (\"\"\"\n",
    "CREATE TABLE IF NOT EXISTS states\n",
    "(\n",
    "state_code text PRIMARY KEY,\n",
    "state_name text\n",
    ");\n",
    "\"\"\")\n",
    "\n",
    "cities_table_create = (\"\"\"\n",
    "CREATE TABLE IF NOT EXISTS cities\n",
    "(\n",
    "city_name text,\n",
    "state_code text,\n",
    "total_pop real,\n",
    "PRIMARY KEY(city_name, state_code)\n",
    ");\n",
    "\"\"\")\n",
    "\n",
    "time_table_create = (\"\"\"\n",
    "CREATE TABLE IF NOT EXISTS times\n",
    "(\n",
    "date timestamp NOT NULL PRIMARY KEY,\n",
    "day int,\n",
    "month int,\n",
    "year int,\n",
    "weekday int\n",
    ");\n",
    "\"\"\")"
   ]
  },
  {
   "cell_type": "code",
   "execution_count": 29,
   "metadata": {},
   "outputs": [],
   "source": [
    "cur.execute(staging_events_table_create)\n",
    "cur.execute(staging_demogr_table_create)\n",
    "cur.execute(immigration_facts_table_create)\n",
    "cur.execute(states_table_create)\n",
    "cur.execute(cities_table_create)\n",
    "cur.execute(time_table_create)"
   ]
  },
  {
   "cell_type": "code",
   "execution_count": 30,
   "metadata": {},
   "outputs": [],
   "source": [
    "conn.commit()"
   ]
  },
  {
   "cell_type": "code",
   "execution_count": 31,
   "metadata": {},
   "outputs": [],
   "source": [
    "insert_queries = [\n",
    "(\"\"\"\n",
    "INSERT INTO immigration_facts(cicid,i94port,i94addr,dtadfile,dtaddto,admnum)\n",
    "    SELECT \n",
    "        cast(cast(cicid as real) as bigint) cicid,\n",
    "        i94port,\n",
    "        i94addr,\n",
    "        to_date(dtadfile, 'yyyymmdd') as dtadfile,\n",
    "        case when dtaddto <> 'D/S' then to_date(dtaddto, 'mmddyyyy') else null end as dtaddto,\n",
    "        cast(cast(admnum as real) as bigint) admnum\n",
    "    FROM staging_immigration\n",
    "\"\"\"),\n",
    "(\"\"\"\n",
    "INSERT INTO states(state_code, state_name)\n",
    "    SELECT distinct\n",
    "        state_code,\n",
    "        state state_name\n",
    "    FROM staging_demographics\n",
    "\"\"\"),\n",
    "(\"\"\"\n",
    "INSERT INTO cities(city_name, state_code, total_pop)\n",
    "    SELECT distinct\n",
    "        city city_name,\n",
    "        state_code,\n",
    "        cast(cast(total_population as real) as bigint) total_pop\n",
    "    FROM staging_demographics\n",
    "\"\"\"),\n",
    "(\"\"\"\n",
    "INSERT INTO times(date,day,month,year,weekday)\n",
    "    SELECT distinct * from (\n",
    "        SELECT\n",
    "            dtadfile as date,\n",
    "            extract(day from dtadfile) as day,\n",
    "            extract(month from dtadfile) as month,\n",
    "            extract(year from dtadfile) as year,\n",
    "            extract(dayofweek from dtadfile) as weekday\n",
    "        FROM immigration_facts\n",
    "        UNION ALL\n",
    "        SELECT\n",
    "            dtaddto as date,\n",
    "            extract(day from dtaddto) as day,\n",
    "            extract(month from dtaddto) as month,\n",
    "            extract(year from dtaddto) as year,\n",
    "            extract(dayofweek from dtaddto) as weekday\n",
    "        FROM immigration_facts\n",
    "        ) t\n",
    "        where date is not null\n",
    "\"\"\"),\n",
    "]"
   ]
  },
  {
   "cell_type": "code",
   "execution_count": 32,
   "metadata": {},
   "outputs": [],
   "source": [
    "for query in insert_queries:\n",
    "    cur.execute(query)"
   ]
  },
  {
   "cell_type": "code",
   "execution_count": 33,
   "metadata": {},
   "outputs": [],
   "source": [
    "# conn.rollback()"
   ]
  },
  {
   "cell_type": "code",
   "execution_count": 34,
   "metadata": {},
   "outputs": [],
   "source": [
    "conn.commit()"
   ]
  },
  {
   "cell_type": "markdown",
   "metadata": {},
   "source": [
    "### Data Quality Checks"
   ]
  },
  {
   "cell_type": "markdown",
   "metadata": {},
   "source": [
    "#### All data quality checks are performing within Airflow DAG"
   ]
  },
  {
   "cell_type": "markdown",
   "metadata": {},
   "source": [
    "### Data dictionary "
   ]
  },
  {
   "cell_type": "markdown",
   "metadata": {},
   "source": [
    "**Fact table**\n",
    "\n",
    "_immigration_facts_\n",
    "* *cicid* - id\n",
    "* *i94port* - City code\n",
    "* *i94addr* - State code\n",
    "* *dtadfile* - Date added to I-94 Files\n",
    "* *dtaddto* - Date to which admitted to U.S. (allowed to stay until)\n",
    "* *admnum* - Admission Number\n",
    "\n",
    "**Dimension tables**\n",
    "\n",
    "_states_\n",
    "* *state_code* - state code\n",
    "* *state_name* - state name\n",
    "\n",
    "_cities_\n",
    "* *city_name* - city name\n",
    "* *state_code* - state code\n",
    "* *total_pop* - total population\n",
    "\n",
    "_times_\n",
    "* *date* - date\n",
    "* *day* - day\n",
    "* *month* - month\n",
    "* *year* - year\n",
    "* *weekday* - weekday"
   ]
  },
  {
   "cell_type": "markdown",
   "metadata": {},
   "source": [
    "## Step 5: Project Write Up"
   ]
  },
  {
   "cell_type": "markdown",
   "metadata": {},
   "source": [
    "###### Rationale for the choice of tools and technologies\n",
    "\n",
    "Once we get the data from a source, wheter it's a local filesystem or S3, we need to perform ELT process to prepare it for the further analytics. That's why it's decided to store it in Redshift - cloud data warehouse with support of running sql-like queries.\n",
    "\n",
    "###### Possible scenarios and logic to handle it.\n",
    "**1. The data was increased by 100x.**\n",
    "Redshift is a scalable warehouse and the ELT process is performed in batch manner so this case wouldn't become a bottleneck.\n",
    "\n",
    "**2. The data populates a dashboard that must be updated on a daily basis by 7am every day.**\n",
    "The whole process is scheduled with Airflow DAG which can be set up to run on any interval.\n",
    "\n",
    "**3. The database needed to be accessed by 100+ people.**\n",
    "Again, Redshift can be scaled up and allow access to the data for a team of any size."
   ]
  },
  {
   "cell_type": "code",
   "execution_count": null,
   "metadata": {},
   "outputs": [],
   "source": []
  }
 ],
 "metadata": {
  "kernelspec": {
   "display_name": "Python 3",
   "language": "python",
   "name": "python3"
  },
  "language_info": {
   "codemirror_mode": {
    "name": "ipython",
    "version": 3
   },
   "file_extension": ".py",
   "mimetype": "text/x-python",
   "name": "python",
   "nbconvert_exporter": "python",
   "pygments_lexer": "ipython3",
   "version": "3.7.6"
  },
  "toc": {
   "base_numbering": 1,
   "nav_menu": {},
   "number_sections": true,
   "sideBar": true,
   "skip_h1_title": false,
   "title_cell": "Table of Contents",
   "title_sidebar": "Contents",
   "toc_cell": false,
   "toc_position": {},
   "toc_section_display": true,
   "toc_window_display": true
  }
 },
 "nbformat": 4,
 "nbformat_minor": 4
}
